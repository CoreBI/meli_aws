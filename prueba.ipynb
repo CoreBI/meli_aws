{
 "metadata": {
  "language_info": {
   "codemirror_mode": {
    "name": "ipython",
    "version": 3
   },
   "file_extension": ".py",
   "mimetype": "text/x-python",
   "name": "python",
   "nbconvert_exporter": "python",
   "pygments_lexer": "ipython3",
   "version": "3.8.5"
  },
  "orig_nbformat": 2,
  "kernelspec": {
   "name": "python3",
   "display_name": "Python 3.8.5 64-bit",
   "metadata": {
    "interpreter": {
     "hash": "df0893f56f349688326838aaeea0de204df53a132722cbd565e54b24a8fec5f6"
    }
   }
  }
 },
 "nbformat": 4,
 "nbformat_minor": 2,
 "cells": [
  {
   "cell_type": "code",
   "execution_count": 1,
   "metadata": {},
   "outputs": [],
   "source": [
    "import meli"
   ]
  },
  {
   "cell_type": "code",
   "execution_count": 7,
   "metadata": {},
   "outputs": [
    {
     "output_type": "stream",
     "name": "stdout",
     "text": [
      "{'access_token': 'APP_USR-7590455332194333-041919-75a8efd7af9c7ddf1665e9c51a8b0acd-246777298',\n 'expires_in': 21600,\n 'scope': 'read',\n 'token_type': 'bearer',\n 'user_id': 246777298}\n"
     ]
    }
   ],
   "source": [
    "from __future__ import print_function\n",
    "import time\n",
    "import meli\n",
    "from meli.rest import ApiException\n",
    "from pprint import pprint\n",
    "# Defining the host, defaults to https://api.mercadolibre.com\n",
    "# See configuration.py for a list of all supported configuration parameters.\n",
    "configuration = meli.Configuration(\n",
    "    host = \"https://api.mercadolibre.com\"\n",
    ")\n",
    "\n",
    "\n",
    "# Enter a context with an instance of the API client\n",
    "with meli.ApiClient() as api_client:\n",
    "# Create an instance of the API class\n",
    "    api_instance = meli.OAuth20Api(api_client)\n",
    "    grant_type = 'authorization_code' # str\n",
    "    client_id = '7590455332194333' # Your client_id\n",
    "    client_secret = 'FYmyKCYaVvMItou46X0M8IGv48htL1QW' # Your client_secret\n",
    "    redirect_uri = 'https://localhost:3000' # Your redirect_uri\n",
    "    code = 'TG-607dd99051d0e6000774943c-246777298' # The parameter CODE\n",
    "    refresh_token = 'refresh_token_example' # Your refresh_token\n",
    "\n",
    "try:\n",
    "    # Request Access Token\n",
    "    api_response = api_instance.get_token(grant_type=grant_type, client_id=client_id, client_secret=client_secret, redirect_uri=redirect_uri, code=code, refresh_token=refresh_token)\n",
    "    pprint(api_response)\n",
    "except ApiException as e:\n",
    "    print(\"Exception when calling OAuth20Api->get_token: %s\\n\" % e)"
   ]
  },
  {
   "cell_type": "code",
   "execution_count": 9,
   "metadata": {},
   "outputs": [
    {
     "output_type": "stream",
     "name": "stdout",
     "text": [
      "[{'id': 'MLA5725', 'name': 'Accesorios para Vehículos'},\n {'id': 'MLA1512', 'name': 'Agro'},\n {'id': 'MLA1403', 'name': 'Alimentos y Bebidas'},\n {'id': 'MLA1071', 'name': 'Animales y Mascotas'},\n {'id': 'MLA1367', 'name': 'Antigüedades y Colecciones'},\n {'id': 'MLA1368', 'name': 'Arte, Librería y Mercería'},\n {'id': 'MLA1743', 'name': 'Autos, Motos y Otros'},\n {'id': 'MLA1384', 'name': 'Bebés'},\n {'id': 'MLA1246', 'name': 'Belleza y Cuidado Personal'},\n {'id': 'MLA1039', 'name': 'Cámaras y Accesorios'},\n {'id': 'MLA1051', 'name': 'Celulares y Teléfonos'},\n {'id': 'MLA1648', 'name': 'Computación'},\n {'id': 'MLA1144', 'name': 'Consolas y Videojuegos'},\n {'id': 'MLA1500', 'name': 'Construcción'},\n {'id': 'MLA1276', 'name': 'Deportes y Fitness'},\n {'id': 'MLA5726', 'name': 'Electrodomésticos y Aires Ac.'},\n {'id': 'MLA1000', 'name': 'Electrónica, Audio y Video'},\n {'id': 'MLA2547', 'name': 'Entradas para Eventos'},\n {'id': 'MLA407134', 'name': 'Herramientas'},\n {'id': 'MLA1574', 'name': 'Hogar, Muebles y Jardín'},\n {'id': 'MLA1499', 'name': 'Industrias y Oficinas'},\n {'id': 'MLA1459', 'name': 'Inmuebles'},\n {'id': 'MLA1182', 'name': 'Instrumentos Musicales'},\n {'id': 'MLA3937', 'name': 'Joyas y Relojes'},\n {'id': 'MLA1132', 'name': 'Juegos y Juguetes'},\n {'id': 'MLA3025', 'name': 'Libros, Revistas y Comics'},\n {'id': 'MLA1168', 'name': 'Música, Películas y Series'},\n {'id': 'MLA1430', 'name': 'Ropa y Accesorios'},\n {'id': 'MLA409431', 'name': 'Salud y Equipamiento Médico'},\n {'id': 'MLA1540', 'name': 'Servicios'},\n {'id': 'MLA9304', 'name': 'Souvenirs, Cotillón y Fiestas'},\n {'id': 'MLA1953', 'name': 'Otras categorías'}]\n"
     ]
    }
   ],
   "source": [
    "# You need use this example code in to the main folder\n",
    "from __future__ import print_function\n",
    "import time\n",
    "import meli\n",
    "from meli.rest import ApiException\n",
    "from pprint import pprint\n",
    "# Defining the host is optional and defaults to https://api.mercadolibre.com\n",
    "# See configuration.py for a list of all supported configuration parameters.\n",
    "configuration = meli.Configuration(\n",
    "    host = \"https://api.mercadolibre.com\"\n",
    ")\n",
    "\n",
    "\n",
    "# Enter a context with an instance of the API client\n",
    "with meli.ApiClient() as api_client:\n",
    "    # Create an instance of the API class\n",
    "    api_instance = meli.RestClientApi(api_client)\n",
    "    resource = 'sites/MLA/categories' # A resource example like items, search, category, etc.\n",
    "    access_token = 'APP_USR-7590455332194333-041919-75a8efd7af9c7ddf1665e9c51a8b0acd-246777298' # Your access token.\n",
    "\n",
    "try:\n",
    "    # Resource path GET\n",
    "    api_response = api_instance.resource_get(resource, access_token)\n",
    "    pprint(api_response)\n",
    "except ApiException as e:\n",
    "    print(\"Exception when calling RestClientApi->resource_get: %s\\n\" % e)"
   ]
  },
  {
   "cell_type": "code",
   "execution_count": null,
   "metadata": {},
   "outputs": [],
   "source": []
  }
 ]
}