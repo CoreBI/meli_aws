{
 "cells": [
  {
   "cell_type": "code",
   "execution_count": 1,
   "metadata": {},
   "outputs": [],
   "source": [
    "from pandas.io.json import json_normalize\n",
    "import meli\n",
    "from __future__ import print_function\n",
    "import time\n",
    "import meli\n",
    "from meli.rest import ApiException\n",
    "from pprint import pprint\n",
    "import pandas as pd\n",
    "pd.set_option('display.max_columns', 500)"
   ]
  },
  {
   "cell_type": "code",
   "execution_count": 2,
   "metadata": {
    "scrolled": true
   },
   "outputs": [],
   "source": [
    "token = open(\"token.txt\", \"r\").read()\n",
    "refresh_token = open(\"refresh_token.txt\", \"r\").read()"
   ]
  },
  {
   "cell_type": "code",
   "execution_count": 3,
   "metadata": {},
   "outputs": [],
   "source": [
    "client_id = '7590455332194333' # Your client_id\n",
    "client_secret = 'FYmyKCYaVvMItou46X0M8IGv48htL1QW' # Your client_secret\n",
    "redirect_uri = 'https://localhost:0000' # Your redirect_uri\n",
    "grant_type = \"refresh_token\"\n"
   ]
  },
  {
   "cell_type": "code",
   "execution_count": 4,
   "metadata": {},
   "outputs": [],
   "source": [
    "##### este codigo intenta pegarla a la api, si falla refresca el token \n",
    "def search_and_refresh (resource, token, refresh_token):\n",
    "# Enter a context with an instance of the API client\n",
    "    with meli.ApiClient() as api_client:\n",
    "        # Create an instance of the API class\n",
    "        api_instance = meli.RestClientApi(api_client)\n",
    "    try:\n",
    "        # Resource path GET\n",
    "        api_response = api_instance.resource_get(resource, token)\n",
    "\n",
    "        #print(api_response)\n",
    "    except ApiException as e:\n",
    "        print(\"Refrescando automaticamente token-Exception when calling RestClientApi->resource_get: %s\\n\" % e)\n",
    "        with meli.ApiClient() as api_client:\n",
    "            api_instance = meli.OAuth20Api(api_client)\n",
    "            api_response = api_instance.get_token(grant_type=grant_type, client_id=client_id, client_secret=client_secret, redirect_uri=redirect_uri, refresh_token =refresh_token )\n",
    "            token = api_response.get(\"access_token\")\n",
    "            file = open(\"token.txt\", \"w\") \n",
    "            file.write(token) \n",
    "            file.close() \n",
    "            refresh_token = api_response.get(\"refresh_token\")\n",
    "            file = open(\"refresh_token.txt\", \"w\") \n",
    "            file.write(refresh_token) \n",
    "            file.close() \n",
    "    return api_response"
   ]
  },
  {
   "cell_type": "code",
   "execution_count": 5,
   "metadata": {},
   "outputs": [],
   "source": [
    "resource = '/trends/MLA/'"
   ]
  },
  {
   "cell_type": "code",
   "execution_count": 6,
   "metadata": {},
   "outputs": [],
   "source": [
    "api_response1 = search_and_refresh(resource, token, refresh_token)"
   ]
  },
  {
   "cell_type": "code",
   "execution_count": 7,
   "metadata": {},
   "outputs": [
    {
     "name": "stderr",
     "output_type": "stream",
     "text": [
      "<ipython-input-7-81201da8e4ff>:1: FutureWarning: pandas.io.json.json_normalize is deprecated, use pandas.json_normalize instead\n",
      "  result = json_normalize(api_response1)\n"
     ]
    }
   ],
   "source": [
    "result = json_normalize(api_response1)"
   ]
  },
  {
   "cell_type": "code",
   "execution_count": 8,
   "metadata": {
    "scrolled": true
   },
   "outputs": [
    {
     "data": {
      "text/html": [
       "<div>\n",
       "<style scoped>\n",
       "    .dataframe tbody tr th:only-of-type {\n",
       "        vertical-align: middle;\n",
       "    }\n",
       "\n",
       "    .dataframe tbody tr th {\n",
       "        vertical-align: top;\n",
       "    }\n",
       "\n",
       "    .dataframe thead th {\n",
       "        text-align: right;\n",
       "    }\n",
       "</style>\n",
       "<table border=\"1\" class=\"dataframe\">\n",
       "  <thead>\n",
       "    <tr style=\"text-align: right;\">\n",
       "      <th></th>\n",
       "      <th>keyword</th>\n",
       "      <th>url</th>\n",
       "    </tr>\n",
       "  </thead>\n",
       "  <tbody>\n",
       "    <tr>\n",
       "      <th>0</th>\n",
       "      <td>planchita profesional</td>\n",
       "      <td>https://listado.mercadolibre.com.ar/electrodom...</td>\n",
       "    </tr>\n",
       "    <tr>\n",
       "      <th>1</th>\n",
       "      <td>sabanas piñata</td>\n",
       "      <td>https://hogar.mercadolibre.com.ar/muebles-otro...</td>\n",
       "    </tr>\n",
       "    <tr>\n",
       "      <th>2</th>\n",
       "      <td>maceta</td>\n",
       "      <td>https://hogar.mercadolibre.com.ar/jardines-ext...</td>\n",
       "    </tr>\n",
       "    <tr>\n",
       "      <th>3</th>\n",
       "      <td>calefon</td>\n",
       "      <td>https://listado.mercadolibre.com.ar/electrodom...</td>\n",
       "    </tr>\n",
       "    <tr>\n",
       "      <th>4</th>\n",
       "      <td>gorras hombre</td>\n",
       "      <td>https://ropa.mercadolibre.com.ar/accesorios-mo...</td>\n",
       "    </tr>\n",
       "    <tr>\n",
       "      <th>...</th>\n",
       "      <td>...</td>\n",
       "      <td>...</td>\n",
       "    </tr>\n",
       "    <tr>\n",
       "      <th>96</th>\n",
       "      <td>amazfit</td>\n",
       "      <td>https://listado.mercadolibre.com.ar/amazfit</td>\n",
       "    </tr>\n",
       "    <tr>\n",
       "      <th>97</th>\n",
       "      <td>moto 110 0km</td>\n",
       "      <td>https://motos.mercadolibre.com.ar/scooters/mot...</td>\n",
       "    </tr>\n",
       "    <tr>\n",
       "      <th>98</th>\n",
       "      <td>mochila maternales</td>\n",
       "      <td>https://listado.mercadolibre.com.ar/articulos-...</td>\n",
       "    </tr>\n",
       "    <tr>\n",
       "      <th>99</th>\n",
       "      <td>furgon</td>\n",
       "      <td>https://autos.mercadolibre.com.ar/furgon</td>\n",
       "    </tr>\n",
       "    <tr>\n",
       "      <th>100</th>\n",
       "      <td>set de herramientas</td>\n",
       "      <td>https://listado.mercadolibre.com.ar/herramient...</td>\n",
       "    </tr>\n",
       "  </tbody>\n",
       "</table>\n",
       "<p>101 rows × 2 columns</p>\n",
       "</div>"
      ],
      "text/plain": [
       "                   keyword                                                url\n",
       "0    planchita profesional  https://listado.mercadolibre.com.ar/electrodom...\n",
       "1           sabanas piñata  https://hogar.mercadolibre.com.ar/muebles-otro...\n",
       "2                   maceta  https://hogar.mercadolibre.com.ar/jardines-ext...\n",
       "3                  calefon  https://listado.mercadolibre.com.ar/electrodom...\n",
       "4            gorras hombre  https://ropa.mercadolibre.com.ar/accesorios-mo...\n",
       "..                     ...                                                ...\n",
       "96                 amazfit        https://listado.mercadolibre.com.ar/amazfit\n",
       "97            moto 110 0km  https://motos.mercadolibre.com.ar/scooters/mot...\n",
       "98      mochila maternales  https://listado.mercadolibre.com.ar/articulos-...\n",
       "99                  furgon           https://autos.mercadolibre.com.ar/furgon\n",
       "100    set de herramientas  https://listado.mercadolibre.com.ar/herramient...\n",
       "\n",
       "[101 rows x 2 columns]"
      ]
     },
     "execution_count": 8,
     "metadata": {},
     "output_type": "execute_result"
    }
   ],
   "source": [
    "result "
   ]
  },
  {
   "cell_type": "code",
   "execution_count": null,
   "metadata": {},
   "outputs": [],
   "source": []
  }
 ],
 "metadata": {
  "kernelspec": {
   "display_name": "Python 3",
   "language": "python",
   "name": "python3"
  },
  "language_info": {
   "codemirror_mode": {
    "name": "ipython",
    "version": 3
   },
   "file_extension": ".py",
   "mimetype": "text/x-python",
   "name": "python",
   "nbconvert_exporter": "python",
   "pygments_lexer": "ipython3",
   "version": "3.8.5"
  }
 },
 "nbformat": 4,
 "nbformat_minor": 2
}
