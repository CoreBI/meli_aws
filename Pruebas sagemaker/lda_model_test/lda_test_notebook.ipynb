{
 "cells": [
  {
   "cell_type": "code",
   "execution_count": 1,
   "metadata": {},
   "outputs": [
    {
     "name": "stdout",
     "output_type": "stream",
     "text": [
      "\u001b[33m  WARNING: The script sagemaker-upgrade-v2 is installed in '/home/sagemaker-user/.local/bin' which is not on PATH.\n",
      "  Consider adding this directory to PATH or, if you prefer to suppress this warning, use --no-warn-script-location.\u001b[0m\n"
     ]
    }
   ],
   "source": [
    "#bajar sagemaker, update pip\n",
    "\n",
    "import sys\n",
    "!{sys.executable} -m pip install sagemaker --quiet --upgrade\n",
    "\n",
    "import boto3\n",
    "import os\n",
    "import sagemaker\n",
    "import requests\n",
    "import datetime\n",
    "import json"
   ]
  },
  {
   "cell_type": "code",
   "execution_count": 8,
   "metadata": {},
   "outputs": [],
   "source": [
    "\n",
    "\n",
    "#s3_client = boto3.client('s3')\n",
    "\n",
    "def get_data_meli(request_code):\n",
    "    bucket = 'meli-api-insights'\n",
    "    \n",
    "    response = requests.get(request_code)\n",
    "    result = response.json()\n",
    "    body = bytes(json.dumps(result).encode('UTF-8'))\n",
    "    #filename = 'trends' + '-' + str(datetime.datetime.now())[:10] + '.json'   \n",
    "    #put_response = s3_client.put_object(Bucket=bucket, Key=filename, Body=body)\n",
    "\n",
    "    \n",
    "    #print('Put Complete')\n",
    "    return result\n"
   ]
  },
  {
   "cell_type": "code",
   "execution_count": 59,
   "metadata": {},
   "outputs": [],
   "source": [
    "a = get_data_meli(f'https://api.mercadolibre.com/reviews/item/MLA15397854?offset={iters}&limit=10')['reviews']"
   ]
  },
  {
   "cell_type": "code",
   "execution_count": 60,
   "metadata": {},
   "outputs": [
    {
     "data": {
      "text/plain": [
       "[{'id': 103319062,\n",
       "  'reviewable_object': {'id': 'MLA841085340', 'type': 'product'},\n",
       "  'date_created': '2021-04-20T21:22:18.000-04:00',\n",
       "  'status': 'published',\n",
       "  'title': 'Excelente!, tal cual la descripcion',\n",
       "  'content': 'Es verdad q la bateria dura muchisimo, lo uso todos los dias. Tiene excelente calidad de audio, es rapida la conexion con el celu. Lo uso en video llamadas y te escuchas vos mismo, si no tenes independencia auditiva te perdes en la conversacion, y. Para los que no tenemos una melena frondosa, en mi barrio comunmente llamados pelados, la vincha es muy dura y despues de un tiempo de usarlos te duele el tobogan de piojos.',\n",
       "  'rate': 5,\n",
       "  'valorization': 0,\n",
       "  'likes': 0,\n",
       "  'dislikes': 0,\n",
       "  'reviewer_id': 61808513,\n",
       "  'buying_date': '2021-04-04T00:00:00.000-04:00'},\n",
       " {'id': 92086398,\n",
       "  'reviewable_object': {'id': 'MLA834499335', 'type': 'product'},\n",
       "  'date_created': '2021-01-10T15:04:37.000-04:00',\n",
       "  'status': 'published',\n",
       "  'title': 'Buen sonido y buena la batería.',\n",
       "  'content': 'El sonido es muy bueno para el precio, y la batería dura. Lo cargue cuando lo recibí, llevo usándolo ya varios días con youtube, meet, zoom. Y la batería sigue a full. Todavía no lo vuelvo a cargar. \\nLo que es incomodo es que no se puede cancelar el uso del micrófono. Si hay ruido en el ambiente lo capta todo y es muy muy molesto. Salvo en eso, en lo demás creo que es muy bueno.',\n",
       "  'rate': 4,\n",
       "  'valorization': 0,\n",
       "  'likes': 0,\n",
       "  'dislikes': 0,\n",
       "  'reviewer_id': 30167983,\n",
       "  'buying_date': '2020-12-20T00:00:00.000-04:00'},\n",
       " {'id': 91404548,\n",
       "  'reviewable_object': {'id': 'MLA841085340', 'type': 'product'},\n",
       "  'date_created': '2021-01-05T11:30:42.000-04:00',\n",
       "  'status': 'published',\n",
       "  'title': 'Excelente,lo recomiendo 100% ',\n",
       "  'content': 'Excelente, sonido impresionante, buenos bajos. Mucha definición. El bluetooth muy bueno, es lento para conectar pero una vez conectado, anduve por toda la casa incluso salí afuera y seguía conectado sin interferencias ni corte con el celu que estaba en mi habitación. No probé el micrófono incorporado. La única observación es que no tiene jack de entrada de audio,  por si lo quiero conectar con cable sin bluetooth. Batería lo use tres días seguidos y seguía funcionando.',\n",
       "  'rate': 5,\n",
       "  'valorization': 0,\n",
       "  'likes': 0,\n",
       "  'dislikes': 0,\n",
       "  'reviewer_id': 2693507,\n",
       "  'buying_date': '2020-12-19T00:00:00.000-04:00'},\n",
       " {'id': 87155304,\n",
       "  'reviewable_object': {'id': 'MLA841085340', 'type': 'product'},\n",
       "  'date_created': '2020-11-30T08:53:52.000-04:00',\n",
       "  'status': 'published',\n",
       "  'title': 'Bastante buenos para el precio',\n",
       "  'content': 'El audio se escucha muy bien y es de buena calidad. La conexión bluetooth es confiable y tiene buen rango. Un detalle no menor es que en videollamadas de distintas plataformas genera una especie de eco molesto para las otras personas que están escuchando (siempre se solucionó cuando me quité los auriculares así que tiene que ver con eso). La batería dura mucho. En las preguntas lo aclaran pero sepan que no puede utilizarse con cable.',\n",
       "  'rate': 4,\n",
       "  'valorization': 0,\n",
       "  'likes': 0,\n",
       "  'dislikes': 0,\n",
       "  'reviewer_id': 179257804,\n",
       "  'buying_date': '2020-06-03T00:00:00.000-04:00'},\n",
       " {'id': 70666423,\n",
       "  'reviewable_object': {'id': 'MLA841085340', 'type': 'product'},\n",
       "  'date_created': '2020-07-18T18:45:38.000-04:00',\n",
       "  'status': 'published',\n",
       "  'title': 'Buen producto, no se arrepentirán',\n",
       "  'content': 'Calidad sony esta de mas hablar, muy buen sonido, la critica que le hago es que los botones no se identifican al tacto, por lo menos en mi caso tengo que ver para encenderlo, y en lo particular me gusta que envuelva toda la oreja y no sobre la oreja, bueno es una cuestión de gusto, por que después de un rato largo de escuchar es molesto. Lo uso con el celular y con el tv.',\n",
       "  'rate': 4,\n",
       "  'valorization': 0,\n",
       "  'likes': 0,\n",
       "  'dislikes': 0,\n",
       "  'reviewer_id': 169005280,\n",
       "  'buying_date': '2020-06-19T00:00:00.000-04:00'},\n",
       " {'id': 112064815,\n",
       "  'reviewable_object': {'id': 'MLA841085340', 'type': 'product'},\n",
       "  'date_created': '2021-07-04T16:06:23.000-04:00',\n",
       "  'status': 'published',\n",
       "  'title': 'El mejor valor por el precio',\n",
       "  'content': 'Sony wh-ch510 por el precio está muy bien. El sonido es muy bueno, los materiales parecen duraderos. La batería dura como 30 horas. Es on-ear con lo cual, luego de 2 horas tenes que descansar las orejitas pero es lógico lo recomiendo. Ya compré varios modelos de 2 lucas con cable y se rompen al mes. Si no llegás a un sennheiser (de los originales) , el sony es lo segundo que deberías considerar.',\n",
       "  'rate': 5,\n",
       "  'valorization': 0,\n",
       "  'likes': 0,\n",
       "  'dislikes': 0,\n",
       "  'reviewer_id': 89992737,\n",
       "  'buying_date': '2021-06-10T00:00:00.000-04:00'},\n",
       " {'id': 109101236,\n",
       "  'reviewable_object': {'id': 'MLA841085340', 'type': 'product'},\n",
       "  'date_created': '2021-06-09T18:28:24.000-04:00',\n",
       "  'status': 'published',\n",
       "  'title': 'Excelente producto\\n',\n",
       "  'content': 'Es excelente el producto y cumple su funcion tal cual se lo describe. Pude conectarlo con diferentes dispositivos (diversos sistemas operativos tambien) y siempre excelente la calidad. Si, puede ser que en las llamadas la otra persona escuche un poco de eco (pero me ha pasado un par de veces nada mas y no es lo regular). \\nAl probarlo, por comodidad y funcionalidad, ya se lo han comprado otras personas de mi familia y conocidos!.',\n",
       "  'rate': 5,\n",
       "  'valorization': 0,\n",
       "  'likes': 0,\n",
       "  'dislikes': 0,\n",
       "  'reviewer_id': 379923135,\n",
       "  'buying_date': '2021-03-16T00:00:00.000-04:00'},\n",
       " {'id': 105743084,\n",
       "  'reviewable_object': {'id': 'MLA841085340', 'type': 'product'},\n",
       "  'date_created': '2021-05-12T09:00:30.000-04:00',\n",
       "  'status': 'published',\n",
       "  'title': 'Muy buen sonido!',\n",
       "  'content': 'Enamorada de mis auriculares. El sonido es impecable. Son los primeros inalámbricos que tengo, y no entiendo cómo hacía antes!. Tiene incorporado micrófono también (se escucha con un poco de eco en mi caso) pero el sonido en gral es buenísimo limpio. La batería dura un montón, el cable para cargar es un poco corto. Súper cómodos y buena calidad del material y terminaciones. La bincha es bastante grande, y encima se puede agrandar más.',\n",
       "  'rate': 5,\n",
       "  'valorization': 0,\n",
       "  'likes': 0,\n",
       "  'dislikes': 0,\n",
       "  'reviewer_id': 205266514,\n",
       "  'buying_date': '2021-04-25T00:00:00.000-04:00'},\n",
       " {'id': 79989486,\n",
       "  'reviewable_object': {'id': 'MLA841085340', 'type': 'product'},\n",
       "  'date_created': '2020-09-26T15:44:38.000-04:00',\n",
       "  'status': 'published',\n",
       "  'title': 'Muy bueno',\n",
       "  'content': 'Son los primeros vincha que uso, me resultan muy comodos, los uso en el trabajo y aislan muy bien el ruido, se quedan sujetos a la cabeza por mas que haga distintos movimientos, conectan rapidamente por bluetooth. El sonido es muy bueno, no soy melomano pero disfruto escuchando musica. Es verdad que muy cada tanto, diria solo al reactivar el celular se escucha como un corto o interferencia pero repito es minimo y no siempre.',\n",
       "  'rate': 4,\n",
       "  'valorization': 0,\n",
       "  'likes': 0,\n",
       "  'dislikes': 0,\n",
       "  'reviewer_id': 159130221,\n",
       "  'buying_date': '2020-09-09T00:00:00.000-04:00'},\n",
       " {'id': 73320102,\n",
       "  'reviewable_object': {'id': 'MLA841085340', 'type': 'product'},\n",
       "  'date_created': '2020-08-06T16:13:15.000-04:00',\n",
       "  'status': 'published',\n",
       "  'title': 'muy buen auricular... muy recomendable',\n",
       "  'content': 'Muy comodos y practicos. Faciles de usar y manejar. Controles muy comodos. \\nMuy buena estetica y diseño. La calidad de sonido es muy buena. Mejor de lo que esperaba por el tipo de producto y el uso que le doy. Al igual que este modelo varias marcas tienen entre en 20hz y 20khz en este rango de precio. Mas exigencia en la calidad de sus caracteristicas significa mas dinero. Estoy muy conforme con el auricular.',\n",
       "  'rate': 4,\n",
       "  'valorization': 0,\n",
       "  'likes': 0,\n",
       "  'dislikes': 0,\n",
       "  'reviewer_id': 28388860,\n",
       "  'buying_date': '2020-07-29T00:00:00.000-04:00'}]"
      ]
     },
     "execution_count": 60,
     "metadata": {},
     "output_type": "execute_result"
    }
   ],
   "source": [
    "a"
   ]
  },
  {
   "cell_type": "code",
   "execution_count": 44,
   "metadata": {},
   "outputs": [
    {
     "data": {
      "text/plain": [
       "2516"
      ]
     },
     "execution_count": 44,
     "metadata": {},
     "output_type": "execute_result"
    }
   ],
   "source": [
    "total_info = get_data_meli('https://api.mercadolibre.com/reviews/item/MLA15397854')['paging']['total']\n",
    "total_info"
   ]
  },
  {
   "cell_type": "code",
   "execution_count": 42,
   "metadata": {},
   "outputs": [
    {
     "ename": "NameError",
     "evalue": "name 'iteration_request' is not defined",
     "output_type": "error",
     "traceback": [
      "\u001b[0;31m---------------------------------------------------------------------------\u001b[0m",
      "\u001b[0;31mNameError\u001b[0m                                 Traceback (most recent call last)",
      "\u001b[0;32m<ipython-input-42-df1745028a59>\u001b[0m in \u001b[0;36m<module>\u001b[0;34m\u001b[0m\n\u001b[1;32m     11\u001b[0m         \u001b[0miterations_request\u001b[0m \u001b[0;34m=\u001b[0m \u001b[0;34m(\u001b[0m\u001b[0mtotal_info\u001b[0m \u001b[0;34m/\u001b[0m\u001b[0;36m100\u001b[0m\u001b[0;34m)\u001b[0m\u001b[0;34m\u001b[0m\u001b[0;34m\u001b[0m\u001b[0m\n\u001b[1;32m     12\u001b[0m \u001b[0;34m\u001b[0m\u001b[0m\n\u001b[0;32m---> 13\u001b[0;31m \u001b[0mprint\u001b[0m\u001b[0;34m(\u001b[0m\u001b[0miteration_request\u001b[0m\u001b[0;34m)\u001b[0m\u001b[0;34m\u001b[0m\u001b[0;34m\u001b[0m\u001b[0m\n\u001b[0m\u001b[1;32m     14\u001b[0m \u001b[0;31m#for iters in range(total_info/10):\u001b[0m\u001b[0;34m\u001b[0m\u001b[0;34m\u001b[0m\u001b[0;34m\u001b[0m\u001b[0m\n\u001b[1;32m     15\u001b[0m \u001b[0;31m#    print(iters)\u001b[0m\u001b[0;34m\u001b[0m\u001b[0;34m\u001b[0m\u001b[0;34m\u001b[0m\u001b[0m\n",
      "\u001b[0;31mNameError\u001b[0m: name 'iteration_request' is not defined"
     ]
    }
   ],
   "source": [
    "total_info = 101\n",
    "\n",
    "if total_info < 100:\n",
    "    print('muy poca informacion, ALERT')\n",
    "    pass\n",
    "else:\n",
    "    if total_info % 100 != 0:\n",
    "        iterations_request = (total_info /100) + 1 \n",
    "    else:\n",
    "        iterations_request = (total_info /100)\n",
    "\n",
    "print(iteration_request)\n",
    "#for iters in range(total_info/10):\n",
    "#    print(iters)"
   ]
  },
  {
   "cell_type": "code",
   "execution_count": null,
   "metadata": {},
   "outputs": [],
   "source": [
    "registros_counter = 0\n",
    "iteration_request = 26\n",
    "\n",
    "for iters in range(iteration_request):\n",
    "    offset = iters * 100\n",
    "    get_data_meli(f'https://api.mercadolibre.com/reviews/item/MLA15397854?offset={iters}&limit=100')\n",
    "    \n",
    "    "
   ]
  },
  {
   "cell_type": "code",
   "execution_count": null,
   "metadata": {},
   "outputs": [],
   "source": [
    "def get_data_meli(request_code):\n",
    "    bucket = 'meli-api-insights'\n",
    "    \n",
    "    response = requests.get(request_code)\n",
    "    result = response.json()\n",
    "    body = bytes(json.dumps(result).encode('UTF-8'))\n",
    "    #filename = 'trends' + '-' + str(datetime.datetime.now())[:10] + '.json'   \n",
    "    #put_response = s3_client.put_object(Bucket=bucket, Key=filename, Body=body)\n",
    "\n",
    "    \n",
    "    #print('Put Complete')\n",
    "    return result"
   ]
  },
  {
   "cell_type": "code",
   "execution_count": 6,
   "metadata": {},
   "outputs": [
    {
     "data": {
      "text/plain": [
       "'sagemaker-us-east-1-007007875348'"
      ]
     },
     "execution_count": 6,
     "metadata": {},
     "output_type": "execute_result"
    }
   ],
   "source": [
    "sess = sagemaker.session.Session()\n",
    "bucket = sess.default_bucket() \n"
   ]
  },
  {
   "cell_type": "code",
   "execution_count": null,
   "metadata": {},
   "outputs": [],
   "source": [
    "sess = sagemaker.session.Session()\n",
    "bucket = sess.default_bucket() \n",
    "region = boto3.Session().region_name\n",
    "\n",
    "\n",
    "\n",
    "#data_dir = os.path.join(os.getcwd(), 'data')\n",
    "#os.makedirs(data_dir, exist_ok=True)\n",
    "#train_dir = os.path.join(os.getcwd(), 'data/train')\n",
    "#os.makedirs(train_dir, exist_ok=True)\n",
    "#test_dir = os.path.join(os.getcwd(), 'data/test')\n",
    "#os.makedirs(test_dir, exist_ok=True)\n",
    "#raw_dir = os.path.join(os.getcwd(), 'data/raw')\n",
    "#os.makedirs(raw_dir, exist_ok=True)"
   ]
  },
  {
   "cell_type": "code",
   "execution_count": null,
   "metadata": {},
   "outputs": [],
   "source": []
  },
  {
   "cell_type": "code",
   "execution_count": null,
   "metadata": {},
   "outputs": [],
   "source": [
    "my_region == 'us-east-1'\n",
    "\n",
    "bucket_name = 'sagemaker-awsmeli-' # <--- CHANGE THIS VARIABLE TO A UNIQUE NAME FOR YOUR BUCKET\n",
    "s3 = boto3.resource('s3')\n",
    "try:\n",
    "    if  my_region == 'us-east-1':\n",
    "      s3.create_bucket(Bucket=bucket_name)\n",
    "      print('created us-east-1')\n",
    "    else: \n",
    "      s3.create_bucket(Bucket=bucket_name, CreateBucketConfiguration={ 'LocationConstraint': my_region })\n",
    "    print('S3 bucket created successfully')\n",
    "except Exception as e:\n",
    "    print('S3 error: ',e)"
   ]
  }
 ],
 "metadata": {
  "instance_type": "ml.t3.medium",
  "kernelspec": {
   "display_name": "Python 3 (SageMaker JumpStart Data Science 1.0)",
   "language": "python",
   "name": "python3__SAGEMAKER_INTERNAL__arn:aws:sagemaker:us-east-1:793310587911:image/sagemaker-jumpstart-data-science-1.0"
  },
  "language_info": {
   "codemirror_mode": {
    "name": "ipython",
    "version": 3
   },
   "file_extension": ".py",
   "mimetype": "text/x-python",
   "name": "python",
   "nbconvert_exporter": "python",
   "pygments_lexer": "ipython3",
   "version": "3.7.10"
  }
 },
 "nbformat": 4,
 "nbformat_minor": 4
}
