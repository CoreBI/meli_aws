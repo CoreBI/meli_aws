{
 "cells": [
  {
   "cell_type": "code",
   "execution_count": 52,
   "metadata": {},
   "outputs": [
    {
     "name": "stdout",
     "output_type": "stream",
     "text": [
      "/opt/conda/lib/python3.7/site-packages/secretstorage/dhcrypto.py:16: CryptographyDeprecationWarning: int_from_bytes is deprecated, use int.from_bytes instead\n",
      "  from cryptography.utils import int_from_bytes\n",
      "/opt/conda/lib/python3.7/site-packages/secretstorage/util.py:25: CryptographyDeprecationWarning: int_from_bytes is deprecated, use int.from_bytes instead\n",
      "  from cryptography.utils import int_from_bytes\n",
      "\u001b[33mWARNING: Running pip as root will break packages and permissions. You should install packages reliably by using venv: https://pip.pypa.io/warnings/venv\u001b[0m\n",
      "\u001b[33mWARNING: You are using pip version 21.1.1; however, version 21.1.3 is available.\n",
      "You should consider upgrading via the '/opt/conda/bin/python -m pip install --upgrade pip' command.\u001b[0m\n"
     ]
    }
   ],
   "source": [
    "#modulo - librerias sagemaker\n",
    "import sys\n",
    "!{sys.executable} -m pip install sagemaker --quiet --upgrade\n",
    "import boto3\n",
    "import sagemaker"
   ]
  },
  {
   "cell_type": "code",
   "execution_count": 53,
   "metadata": {},
   "outputs": [],
   "source": [
    "#librerias standard\n",
    "import os\n",
    "import requests\n",
    "import datetime\n",
    "import json\n",
    "import time"
   ]
  },
  {
   "cell_type": "code",
   "execution_count": 54,
   "metadata": {},
   "outputs": [],
   "source": [
    "def get_data_meli(request_code):\n",
    "    bucket = 'meli-api-insights'\n",
    "    \n",
    "    response = requests.get(request_code)\n",
    "    result = response.json()\n",
    "    body = bytes(json.dumps(result).encode('UTF-8'))\n",
    "    #filename = 'trends' + '-' + str(datetime.datetime.now())[:10] + '.json'   \n",
    "    #put_response = s3_client.put_object(Bucket=bucket, Key=filename, Body=body)\n",
    "    #print('Put Complete')\n",
    "    return result"
   ]
  },
  {
   "cell_type": "code",
   "execution_count": 62,
   "metadata": {},
   "outputs": [],
   "source": [
    "def get_data_meli2(request_code):\n",
    "    bucket = 'meli-api-insights'\n",
    "    \n",
    "    response = requests.get(request_code)\n",
    "    result = response.json()\n",
    "    body = bytes(json.dumps(result).encode('UTF-8'))\n",
    "    return body"
   ]
  },
  {
   "cell_type": "code",
   "execution_count": 55,
   "metadata": {},
   "outputs": [
    {
     "data": {
      "text/plain": [
       "300"
      ]
     },
     "execution_count": 55,
     "metadata": {},
     "output_type": "execute_result"
    }
   ],
   "source": [
    "cant_items = get_data_meli('https://api.mercadolibre.com/reviews/item/MLA15397854')['paging']['total']\n",
    "iterations = int(math.ceil((cant_items /100)))\n",
    "reviews = []\n",
    "for iters in range(iterations):\n",
    "    offset = iters * 100\n",
    "    new_request = get_data_meli(f'https://api.mercadolibre.com/reviews/item/MLA15397854?offset={iters}&limit=100')['reviews']\n",
    "    reviews.extend(new_request)\n",
    "    time.sleep(1)\n",
    "\n",
    "len(reviews)\n"
   ]
  },
  {
   "cell_type": "code",
   "execution_count": 76,
   "metadata": {},
   "outputs": [],
   "source": [
    "bytes_file = json.dumps(reviews).encode('utf-8')"
   ]
  },
  {
   "cell_type": "code",
   "execution_count": 82,
   "metadata": {},
   "outputs": [],
   "source": [
    "sess = sagemaker.session.Session()\n",
    "bucket ='meli-aws-test'\n",
    "s3_client = boto3.client('s3')\n",
    "filename = 'test_lda/reviews_lda' + '-' + str(datetime.datetime.now())[:10] + '.json'"
   ]
  },
  {
   "cell_type": "code",
   "execution_count": 86,
   "metadata": {},
   "outputs": [],
   "source": [
    "put_response = s3_client.put_object(Bucket=bucket, Key=filename, Body=bytes_file)\n",
    "print(put_response)"
   ]
  },
  {
   "cell_type": "markdown",
   "metadata": {},
   "source": [
    "### codigo borrador, hacia abajo"
   ]
  },
  {
   "cell_type": "code",
   "execution_count": null,
   "metadata": {},
   "outputs": [],
   "source": [
    "sess = sagemaker.session.Session()\n",
    "bucket = sess.default_bucket() \n",
    "region = boto3.Session().region_name\n",
    "\n",
    "\n",
    "\n",
    "#data_dir = os.path.join(os.getcwd(), 'data')\n",
    "#os.makedirs(data_dir, exist_ok=True)\n",
    "#train_dir = os.path.join(os.getcwd(), 'data/train')\n",
    "#os.makedirs(train_dir, exist_ok=True)\n",
    "#test_dir = os.path.join(os.getcwd(), 'data/test')\n",
    "#os.makedirs(test_dir, exist_ok=True)\n",
    "#raw_dir = os.path.join(os.getcwd(), 'data/raw')\n",
    "#os.makedirs(raw_dir, exist_ok=True)"
   ]
  },
  {
   "cell_type": "code",
   "execution_count": null,
   "metadata": {},
   "outputs": [],
   "source": [
    "my_region == 'us-east-1'\n",
    "\n",
    "bucket_name = 'sagemaker-awsmeli-' # <--- CHANGE THIS VARIABLE TO A UNIQUE NAME FOR YOUR BUCKET\n",
    "s3 = boto3.resource('s3')\n",
    "try:\n",
    "    if  my_region == 'us-east-1':\n",
    "      s3.create_bucket(Bucket=bucket_name)\n",
    "      print('created us-east-1')\n",
    "    else: \n",
    "      s3.create_bucket(Bucket=bucket_name, CreateBucketConfiguration={ 'LocationConstraint': my_region })\n",
    "    print('S3 bucket created successfully')\n",
    "except Exception as e:\n",
    "    print('S3 error: ',e)"
   ]
  }
 ],
 "metadata": {
  "kernelspec": {
   "display_name": "Python 3 (Data Science)",
   "language": "python",
   "name": "python3__SAGEMAKER_INTERNAL__arn:aws:sagemaker:us-east-1:081325390199:image/datascience-1.0"
  },
  "language_info": {
   "codemirror_mode": {
    "name": "ipython",
    "version": 3
   },
   "file_extension": ".py",
   "mimetype": "text/x-python",
   "name": "python",
   "nbconvert_exporter": "python",
   "pygments_lexer": "ipython3",
   "version": "3.7.10"
  }
 },
 "nbformat": 4,
 "nbformat_minor": 4
}
