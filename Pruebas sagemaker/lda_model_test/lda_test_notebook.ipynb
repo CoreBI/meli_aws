{
 "cells": [
  {
   "cell_type": "code",
   "execution_count": 1,
   "metadata": {},
   "outputs": [
    {
     "name": "stdout",
     "output_type": "stream",
     "text": [
      "\u001b[33m  WARNING: The script sagemaker-upgrade-v2 is installed in '/home/sagemaker-user/.local/bin' which is not on PATH.\n",
      "  Consider adding this directory to PATH or, if you prefer to suppress this warning, use --no-warn-script-location.\u001b[0m\n"
     ]
    }
   ],
   "source": [
    "#modulo - librerias sagemaker\n",
    "import sys\n",
    "!{sys.executable} -m pip install sagemaker --quiet --upgrade\n",
    "import boto3\n",
    "import sagemaker"
   ]
  },
  {
   "cell_type": "code",
   "execution_count": 2,
   "metadata": {},
   "outputs": [],
   "source": [
    "#librerias standard\n",
    "import os\n",
    "import requests\n",
    "import datetime\n",
    "import json\n",
    "import time"
   ]
  },
  {
   "cell_type": "code",
   "execution_count": 3,
   "metadata": {},
   "outputs": [],
   "source": [
    "def get_data_meli(request_code):\n",
    "    bucket = 'meli-api-insights'\n",
    "    \n",
    "    response = requests.get(request_code)\n",
    "    result = response.json()\n",
    "    body = bytes(json.dumps(result).encode('UTF-8'))\n",
    "    #filename = 'trends' + '-' + str(datetime.datetime.now())[:10] + '.json'   \n",
    "    #put_response = s3_client.put_object(Bucket=bucket, Key=filename, Body=body)\n",
    "    #print('Put Complete')\n",
    "    return result"
   ]
  },
  {
   "cell_type": "code",
   "execution_count": 41,
   "metadata": {},
   "outputs": [
    {
     "data": {
      "text/plain": [
       "2600"
      ]
     },
     "execution_count": 41,
     "metadata": {},
     "output_type": "execute_result"
    }
   ],
   "source": [
    "cant_items = get_data_meli('https://api.mercadolibre.com/reviews/item/MLA15397854')['paging']['total']\n",
    "iterations = int(math.ceil((cant_items /100)))\n",
    "reviews = []\n",
    "\n",
    "for iters in range(iterations):\n",
    "    offset = iters * 100\n",
    "    new_request = get_data_meli(f'https://api.mercadolibre.com/reviews/item/MLA15397854?offset={iters}&limit=100')['reviews']\n",
    "    reviews.extend(new_request)\n",
    "    time.sleep(1)\n",
    "\n",
    "len(reviews)"
   ]
  },
  {
   "cell_type": "code",
   "execution_count": 6,
   "metadata": {},
   "outputs": [
    {
     "data": {
      "text/plain": [
       "'sagemaker-us-east-1-007007875348'"
      ]
     },
     "execution_count": 6,
     "metadata": {},
     "output_type": "execute_result"
    }
   ],
   "source": [
    "sess = sagemaker.session.Session()\n",
    "bucket = sess.default_bucket() \n",
    "s3_client = boto3.client('s3')"
   ]
  },
  {
   "cell_type": "code",
   "execution_count": null,
   "metadata": {},
   "outputs": [],
   "source": [
    "sess = sagemaker.session.Session()\n",
    "bucket = sess.default_bucket() \n",
    "region = boto3.Session().region_name\n",
    "\n",
    "\n",
    "\n",
    "#data_dir = os.path.join(os.getcwd(), 'data')\n",
    "#os.makedirs(data_dir, exist_ok=True)\n",
    "#train_dir = os.path.join(os.getcwd(), 'data/train')\n",
    "#os.makedirs(train_dir, exist_ok=True)\n",
    "#test_dir = os.path.join(os.getcwd(), 'data/test')\n",
    "#os.makedirs(test_dir, exist_ok=True)\n",
    "#raw_dir = os.path.join(os.getcwd(), 'data/raw')\n",
    "#os.makedirs(raw_dir, exist_ok=True)"
   ]
  },
  {
   "cell_type": "code",
   "execution_count": null,
   "metadata": {},
   "outputs": [],
   "source": [
    "my_region == 'us-east-1'\n",
    "\n",
    "bucket_name = 'sagemaker-awsmeli-' # <--- CHANGE THIS VARIABLE TO A UNIQUE NAME FOR YOUR BUCKET\n",
    "s3 = boto3.resource('s3')\n",
    "try:\n",
    "    if  my_region == 'us-east-1':\n",
    "      s3.create_bucket(Bucket=bucket_name)\n",
    "      print('created us-east-1')\n",
    "    else: \n",
    "      s3.create_bucket(Bucket=bucket_name, CreateBucketConfiguration={ 'LocationConstraint': my_region })\n",
    "    print('S3 bucket created successfully')\n",
    "except Exception as e:\n",
    "    print('S3 error: ',e)"
   ]
  }
 ],
 "metadata": {
  "instance_type": "ml.t3.medium",
  "kernelspec": {
   "display_name": "Python 3",
   "language": "python",
   "name": "python3"
  },
  "language_info": {
   "codemirror_mode": {
    "name": "ipython",
    "version": 3
   },
   "file_extension": ".py",
   "mimetype": "text/x-python",
   "name": "python",
   "nbconvert_exporter": "python",
   "pygments_lexer": "ipython3",
   "version": "3.8.2"
  }
 },
 "nbformat": 4,
 "nbformat_minor": 4
}
