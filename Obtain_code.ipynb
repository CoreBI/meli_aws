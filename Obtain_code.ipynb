{
 "cells": [
  {
   "cell_type": "code",
   "execution_count": null,
   "metadata": {},
   "outputs": [],
   "source": [
    "#\n",
    "https://developers.mercadolibre.com.ar/es_ar/autenticacion-y-autorizacion\n",
    "\n",
    "    \n",
    "\n",
    "#para obtener code\n",
    "http://auth.mercadolibre.com.ar/authorization?response_type=code&client_id=7089594419873489&redirect_uri=https://localhost:0000"
   ]
  },
  {
   "cell_type": "code",
   "execution_count": 5,
   "metadata": {},
   "outputs": [],
   "source": [
    "from pandas.io.json import json_normalize\n",
    "import meli\n",
    "from __future__ import print_function\n",
    "import time\n",
    "import meli\n",
    "from meli.rest import ApiException\n",
    "from pprint import pprint\n",
    "import pandas as pd\n",
    "pd.set_option('display.max_columns', 500)\n",
    "\n",
    "#### esto se hace una vez en la vida ####\n",
    "\n",
    "# Defining the host, defaults to https://api.mercadolibre.com\n",
    "# See configuration.py for a list of all supported configuration parameters.\n",
    "configuration = meli.Configuration(host = \"https://api.mercadolibre.com\")\n",
    "\n",
    "# Enter a context with an instance of the API client\n",
    "with meli.ApiClient() as api_client:\n",
    "# Create an instance of the API class\n",
    "    api_instance = meli.OAuth20Api(api_client)\n",
    "    grant_type = 'authorization_code' # str\n",
    "    client_id = '7089594419873489' # Your client_id\n",
    "    client_secret = 'PTEfIVNeY2LFem5RvTmE3B5aUse34fIW' # Your client_secret\n",
    "    redirect_uri = 'https://localhost:0000' # Your redirect_uri\n",
    "    code = 'TG-609195e1e97bce000760c09b-246777298' # The parameter CODE\n",
    "    code = 'TG-60d211ca5c72770007ef22ce-147138431'\n",
    "try:\n",
    "    # Request Access Token\n",
    "    api_response = api_instance.get_token(grant_type=grant_type, client_id=client_id, client_secret=client_secret, redirect_uri=redirect_uri, code=code)\n",
    "    token = api_response.get(\"access_token\")\n",
    "except ApiException as e:\n",
    "    print(\"Exception when calling OAuth20Api->get_token: %s\\n\" % e)\n"
   ]
  },
  {
   "cell_type": "code",
   "execution_count": 6,
   "metadata": {},
   "outputs": [
    {
     "data": {
      "text/plain": [
       "'APP_USR-7089594419873489-062216-0f9829ad17266d86bd437a4ec45d23f0-147138431'"
      ]
     },
     "execution_count": 6,
     "metadata": {},
     "output_type": "execute_result"
    }
   ],
   "source": [
    "#token \n",
    "api_response.get(\"access_token\")\n",
    "token"
   ]
  },
  {
   "cell_type": "code",
   "execution_count": 7,
   "metadata": {},
   "outputs": [
    {
     "data": {
      "text/plain": [
       "{'access_token': 'APP_USR-7089594419873489-062216-0f9829ad17266d86bd437a4ec45d23f0-147138431',\n",
       " 'token_type': 'bearer',\n",
       " 'expires_in': 21600,\n",
       " 'scope': 'offline_access read write',\n",
       " 'user_id': 147138431,\n",
       " 'refresh_token': 'TG-60d212435c72770007ef2341-147138431'}"
      ]
     },
     "execution_count": 7,
     "metadata": {},
     "output_type": "execute_result"
    }
   ],
   "source": [
    "api_response"
   ]
  },
  {
   "cell_type": "code",
   "execution_count": null,
   "metadata": {},
   "outputs": [],
   "source": []
  }
 ],
 "metadata": {
  "kernelspec": {
   "display_name": "Python 3",
   "language": "python",
   "name": "python3"
  },
  "language_info": {
   "codemirror_mode": {
    "name": "ipython",
    "version": 3
   },
   "file_extension": ".py",
   "mimetype": "text/x-python",
   "name": "python",
   "nbconvert_exporter": "python",
   "pygments_lexer": "ipython3",
   "version": "3.8.2"
  }
 },
 "nbformat": 4,
 "nbformat_minor": 4
}
